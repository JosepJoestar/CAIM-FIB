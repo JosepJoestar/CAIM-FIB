{
 "cells": [
  {
   "cell_type": "code",
   "execution_count": 29,
   "metadata": {
    "scrolled": true
   },
   "outputs": [],
   "source": [
    "from igraph import Graph\n",
    "\n",
    "from IPython import display\n",
    "from igraph import plot\n",
    "\n",
    "import numpy as np"
   ]
  },
  {
   "cell_type": "code",
   "execution_count": 40,
   "metadata": {},
   "outputs": [],
   "source": [
    "def get_average_shortest_path_length(shortest_paths):\n",
    "    m = np.array(shortest_paths)\n",
    "    return np.average(m)"
   ]
  },
  {
   "cell_type": "code",
   "execution_count": 49,
   "metadata": {},
   "outputs": [
    {
     "name": "stdout",
     "output_type": "stream",
     "text": [
      "[1.0, 1.0, 1.0, 1.0, 1.0, 1.0, 1.0, 1.0, 1.0, 1.0, 1.0, 1.0, 1.0, 1.0, 1.0, 1.0, 1.0, 1.0, 1.0, 1.0, 10.0]\n"
     ]
    }
   ],
   "source": [
    "p_list = np.arange(start=1, stop=0, step=-0.05, dtype=float).tolist()\n",
    "\n",
    "watts = Graph.Watts_Strogatz(dim=1, size=10, nei=2, p=0)\n",
    "p0 = get_average_shortest_path_length(watts.shortest_paths())\n",
    "results = []\n",
    "\n",
    "for p in p_list:\n",
    "    watts = Graph.Watts_Strogatz(dim=1, size=10, nei=2, p=p)\n",
    "    shortest_paths = get_average_shortest_path_length(watts.shortest_paths())\n",
    "    results.append(shortest_paths / p0)\n",
    "results.append(p0)\n",
    "print(results)"
   ]
  },
  {
   "cell_type": "code",
   "execution_count": 51,
   "metadata": {},
   "outputs": [
    {
     "data": {
      "text/plain": [
       "[[0, 1, 1, 2, 2, 3, 2, 2, 1, 1],\n",
       " [1, 0, 1, 1, 2, 2, 3, 2, 2, 1],\n",
       " [1, 1, 0, 1, 1, 2, 2, 3, 2, 2],\n",
       " [2, 1, 1, 0, 1, 1, 2, 2, 3, 2],\n",
       " [2, 2, 1, 1, 0, 1, 1, 2, 2, 3],\n",
       " [3, 2, 2, 1, 1, 0, 1, 1, 2, 2],\n",
       " [2, 3, 2, 2, 1, 1, 0, 1, 1, 2],\n",
       " [2, 2, 3, 2, 2, 1, 1, 0, 1, 1],\n",
       " [1, 2, 2, 3, 2, 2, 1, 1, 0, 1],\n",
       " [1, 1, 2, 2, 3, 2, 2, 1, 1, 0]]"
      ]
     },
     "execution_count": 51,
     "metadata": {},
     "output_type": "execute_result"
    }
   ],
   "source": [
    "watts = Graph.Watts_Strogatz(dim=1, size=10, nei=2, p=0)\n",
    "watts.shortest_paths()"
   ]
  }
 ],
 "metadata": {
  "kernelspec": {
   "display_name": "CAIM-FIB",
   "language": "python",
   "name": "other-env"
  },
  "language_info": {
   "codemirror_mode": {
    "name": "ipython",
    "version": 3
   },
   "file_extension": ".py",
   "mimetype": "text/x-python",
   "name": "python",
   "nbconvert_exporter": "python",
   "pygments_lexer": "ipython3",
   "version": "3.6.5"
  }
 },
 "nbformat": 4,
 "nbformat_minor": 2
}
