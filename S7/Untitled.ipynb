{
 "cells": [
  {
   "cell_type": "code",
   "execution_count": 29,
   "metadata": {
    "scrolled": true
   },
   "outputs": [],
   "source": [
    "from igraph import Graph\n",
    "\n",
    "from IPython import display\n",
    "from igraph import plot\n",
    "\n",
    "import numpy as np"
   ]
  },
  {
   "cell_type": "code",
   "execution_count": 52,
   "metadata": {},
   "outputs": [],
   "source": [
    "def get_average_shortest_path_length(shortest_paths):\n",
    "    m = np.array(shortest_paths)\n",
    "    return np.average(m)"
   ]
  },
  {
   "cell_type": "code",
   "execution_count": 54,
   "metadata": {},
   "outputs": [
    {
     "name": "stdout",
     "output_type": "stream",
     "text": [
      "[0.9733333333333333, 0.9733333333333333, 0.96, 1.0266666666666666, 0.9733333333333333, 0.9866666666666667, 0.9466666666666667, 1.0133333333333334, 1.0533333333333335, 0.96, 0.9733333333333333, 0.96, 0.9733333333333333, 0.9733333333333333, 1.0, 0.9466666666666667, 0.9733333333333333, 0.96, 0.9866666666666667, 0.9733333333333333, 1.5]\n"
     ]
    }
   ],
   "source": [
    "p_list = np.arange(start=1, stop=0, step=-0.05, dtype=float).tolist()\n",
    "\n",
    "watts = Graph.Watts_Strogatz(dim=1, size=10, nei=2, p=0)\n",
    "p0 = get_average_shortest_path_length(watts.shortest_paths())\n",
    "results = []\n",
    "\n",
    "for p in p_list:\n",
    "    watts = Graph.Watts_Strogatz(dim=1, size=10, nei=2, p=p)\n",
    "    shortest_paths = get_average_shortest_path_length(watts.shortest_paths())\n",
    "    results.append(shortest_paths / p0)\n",
    "results.append(p0)\n",
    "print(results)"
   ]
  },
  {
   "cell_type": "code",
   "execution_count": 58,
   "metadata": {},
   "outputs": [
    {
     "data": {
      "text/plain": [
       "[<matplotlib.lines.Line2D at 0x155d24fa9e8>]"
      ]
     },
     "execution_count": 58,
     "metadata": {},
     "output_type": "execute_result"
    },
    {
     "data": {
      "image/png": "[encoded data removed]",
      "text/plain": [
       "<Figure size 432x288 with 1 Axes>"
      ]
     },
     "metadata": {
      "needs_background": "light"
     },
     "output_type": "display_data"
    }
   ],
   "source": [
    "import matplotlib.pyplot as plt\n",
    "%matplotlib inline\n",
    "plt.plot(p_list + [0], results, 'o')"
   ]
  }
 ],
 "metadata": {
  "kernelspec": {
   "display_name": "CAIM-FIB",
   "language": "python",
   "name": "other-env"
  },
  "language_info": {
   "codemirror_mode": {
    "name": "ipython",
    "version": 3
   },
   "file_extension": ".py",
   "mimetype": "text/x-python",
   "name": "python",
   "nbconvert_exporter": "python",
   "pygments_lexer": "ipython3",
   "version": "3.6.5"
  }
 },
 "nbformat": 4,
 "nbformat_minor": 2
}
