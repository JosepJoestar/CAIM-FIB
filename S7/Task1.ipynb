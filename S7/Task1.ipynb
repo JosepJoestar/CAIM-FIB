{
 "cells": [
  {
   "cell_type": "markdown",
   "metadata": {},
   "source": [
    "# iGraph - Task 1"
   ]
  },
  {
   "cell_type": "code",
   "execution_count": 1,
   "metadata": {
    "collapsed": true,
    "scrolled": true
   },
   "outputs": [],
   "source": [
    "from igraph import Graph\n",
    "\n",
    "import numpy as np\n",
    "import matplotlib.pyplot as plt"
   ]
  },
  {
   "cell_type": "markdown",
   "metadata": {},
   "source": [
    "Let's first define the values of p in logarithmic scale as 10^i from [-4, 0] and analyze how the parameter p modifies the shortest path and the clustering coefficient. To scale the results, we divide the data by the left-most point (when p = 0)."
   ]
  },
  {
   "cell_type": "code",
   "execution_count": 2,
   "metadata": {
    "collapsed": true
   },
   "outputs": [],
   "source": [
    "p_list = [10 ** -i for i in np.linspace(start=4, stop=0, num=14)]\n",
    "results_sp = np.zeros(len(p_list), dtype=float)\n",
    "results_cc = np.zeros(len(p_list), dtype=float)\n",
    "\n",
    "for i, p in enumerate(p_list):\n",
    "    watts = Graph.Watts_Strogatz(dim=1, size=2000, nei=4, p=p)\n",
    "    results_sp[i] = watts.average_path_length()\n",
    "    results_cc[i] = watts.transitivity_undirected()\n",
    "\n",
    "# Scale values in [0, 1]\n",
    "results_sp = (results_sp / results_sp[0]).tolist()\n",
    "results_cc = (results_cc / results_cc[0]).tolist()"
   ]
  },
  {
   "cell_type": "markdown",
   "metadata": {},
   "source": [
    "Now we only need to plot the results using the Matplotlib showing the values of p in log scale against its corresponding scaled clustering coefficient and average shortest path."
   ]
  },
  {
   "cell_type": "code",
   "execution_count": 3,
   "metadata": {
    "scrolled": false
   },
   "outputs": [
    {
     "data": {
      "image/png": "[encoded data removed]",
      "text/plain": [
       "<Figure size 432x288 with 1 Axes>"
      ]
     },
     "metadata": {
      "needs_background": "light"
     },
     "output_type": "display_data"
    }
   ],
   "source": [
    "plt.xlabel('p')\n",
    "plt.semilogx(p_list, results_sp, 'o', label='L(p)/L(0)')\n",
    "plt.semilogx(p_list, results_cc, 'x', label='C(p)/C(0)')\n",
    "plt.legend()\n",
    "\n",
    "plt.savefig('images/task1.png', dpi=200)"
   ]
  }
 ],
 "metadata": {
  "kernelspec": {
   "display_name": "CAIM-FIB",
   "language": "python",
   "name": "other-env"
  },
  "language_info": {
   "codemirror_mode": {
    "name": "ipython",
    "version": 3
   },
   "file_extension": ".py",
   "mimetype": "text/x-python",
   "name": "python",
   "nbconvert_exporter": "python",
   "pygments_lexer": "ipython3",
   "version": "3.6.5"
  }
 },
 "nbformat": 4,
 "nbformat_minor": 2
}
