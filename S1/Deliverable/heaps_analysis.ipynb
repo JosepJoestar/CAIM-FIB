{
 "cells": [
  {
   "cell_type": "markdown",
   "metadata": {},
   "source": [
    "# Heaps' law analysis"
   ]
  },
  {
   "cell_type": "code",
   "execution_count": null,
   "metadata": {},
   "outputs": [],
   "source": [
    "data_path = '../../../Data/'\n",
    "novels_path = data_path + 'novels/'"
   ]
  },
  {
   "cell_type": "code",
   "execution_count": null,
   "metadata": {},
   "outputs": [],
   "source": [
    "from heaps_law import HeapsLaw\n",
    "\n",
    "heaps = HeapsLaw(index='novels', path=novels_path, num_subsets=5)\n",
    "heaps.generate_random_indices()\n",
    "heaps.count_words_and_distincts()\n",
    "heaps.interpolate_parameters()\n",
    "heaps.plot_results(extra='(5)')"
   ]
  },
  {
   "cell_type": "code",
   "execution_count": null,
   "metadata": {},
   "outputs": [],
   "source": [
    "heaps.num_subsets = 30\n",
    "heaps.generate_random_indices()\n",
    "heaps.count_words_and_distincts()\n",
    "heaps.interpolate_parameters()\n",
    "heaps.plot_results(extra='(30)')"
   ]
  },
  {
   "cell_type": "code",
   "execution_count": null,
   "metadata": {},
   "outputs": [],
   "source": [
    "for i in range(5, 30, 5):\n",
    "    heaps.num_subsets = i\n",
    "    heaps.generate_random_indices()\n",
    "    heaps.count_words_and_distincts()\n",
    "    heaps.interpolate_parameters()\n",
    "    heaps.plot_results()\n",
    "    \n",
    "    k, beta = heaps.get_params()\n",
    "    print('k={}, beta={}'.format(k, beta))"
   ]
  }
 ],
 "metadata": {
  "kernelspec": {
   "display_name": "Python 3",
   "language": "python",
   "name": "python3"
  },
  "language_info": {
   "codemirror_mode": {
    "name": "ipython",
    "version": 3
   },
   "file_extension": ".py",
   "mimetype": "text/x-python",
   "name": "python",
   "nbconvert_exporter": "python",
   "pygments_lexer": "ipython3",
   "version": "3.6.5"
  }
 },
 "nbformat": 4,
 "nbformat_minor": 2
}
