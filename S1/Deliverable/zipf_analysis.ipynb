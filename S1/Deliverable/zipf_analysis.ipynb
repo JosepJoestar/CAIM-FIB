{
 "cells": [
  {
   "cell_type": "markdown",
   "metadata": {},
   "source": [
    "# Zipf's law analysis"
   ]
  },
  {
   "cell_type": "code",
   "execution_count": null,
   "metadata": {
    "collapsed": true
   },
   "outputs": [],
   "source": [
    "count_words_novels_path = './counted_words_novels.txt'\n",
    "count_words_arxivs_path = './counted_words_arxivs.txt'\n",
    "count_words_news_path = './counted_words_news.txt'\n",
    "\n",
    "paths = (\n",
    "    ('Novels', count_words_novels_path),\n",
    "    ('Arxivs', count_words_arxivs_path),\n",
    "    ('News', count_words_news_path),\n",
    ")"
   ]
  },
  {
   "cell_type": "code",
   "execution_count": null,
   "metadata": {
    "scrolled": true
   },
   "outputs": [],
   "source": [
    "from zipf_law import ZipfLaw\n",
    "\n",
    "for name, path in paths:\n",
    "    zipf = ZipfLaw(name=name, path=path)\n",
    "    zipf.filter_proper_words_dictionary(path='english_words.txt')\n",
    "    zipf.interpolate_parameters()\n",
    "    zipf.plot_results()"
   ]
  },
  {
   "cell_type": "code",
   "execution_count": null,
   "metadata": {},
   "outputs": [],
   "source": [
    "zipf = ZipfLaw(name='Novels', path=count_words_novels_path)\n",
    "zipf.filter_proper_words_dictionary(path='english_words.txt')\n",
    "zipf.interpolate_parameters()\n",
    "zipf.plot_results(left=100, bottom=0, top=200, markersize=1)\n",
    "print('MSE: {}'.format(zipf.get_mse()))"
   ]
  },
  {
   "cell_type": "code",
   "execution_count": null,
   "metadata": {},
   "outputs": [],
   "source": [
    "for i in [1, *range(10, 500, 10)]:\n",
    "    zipf.filter_proper_words_dictionary(path='english_words.txt', behead=i)\n",
    "    zipf.interpolate_parameters()\n",
    "    zipf.plot_results(left=100, bottom=0, top=200, markersize=1, extra='(-{})'.format(i))\n",
    "    print('MSE_{}: {}'.format(i, zipf.get_mse()))"
   ]
  },
  {
   "cell_type": "code",
   "execution_count": null,
   "metadata": {},
   "outputs": [],
   "source": [
    "zipf.filter_proper_words_dictionary(path='english_words.txt', behead=200)\n",
    "zipf.interpolate_parameters()\n",
    "zipf.plot_results(extra='(log-log scale)', log=True)\n",
    "a, b, c = zipf.get_params()\n",
    "print('a={}, b={}, c={}'.format(a, b, c))"
   ]
  }
 ],
 "metadata": {
  "kernelspec": {
   "display_name": "Python [default]",
   "language": "python",
   "name": "python3"
  },
  "language_info": {
   "codemirror_mode": {
    "name": "ipython",
    "version": 3
   },
   "file_extension": ".py",
   "mimetype": "text/x-python",
   "name": "python",
   "nbconvert_exporter": "python",
   "pygments_lexer": "ipython3",
   "version": "3.5.3"
  }
 },
 "nbformat": 4,
 "nbformat_minor": 2
}
